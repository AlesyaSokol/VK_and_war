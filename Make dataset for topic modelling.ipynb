{
 "cells": [
  {
   "cell_type": "code",
   "execution_count": 211,
   "id": "03a20e1e",
   "metadata": {},
   "outputs": [],
   "source": [
    "import string\n",
    "import pickle\n",
    "from os.path import join\n",
    "from pymystem3 import Mystem\n",
    "from string import ascii_letters\n",
    "from datetime import datetime\n",
    "import numpy as np\n",
    "import random\n",
    "from matplotlib import pyplot as plt"
   ]
  },
  {
   "cell_type": "code",
   "execution_count": 97,
   "id": "7b54ea4e",
   "metadata": {},
   "outputs": [],
   "source": [
    "def clean(data, stop_words = None):\n",
    "    \"\"\"\n",
    "    This function takes in input the location of the dataset and does the following data cleaning:\n",
    "    - exclude reposts\n",
    "    - remove hashtags\n",
    "    - remove punctuation\n",
    "    - do lemmatization\n",
    "\n",
    "    :param folder: location of the dataset.\n",
    "    :param filename: name of the dataset.\n",
    "    :return: None\n",
    "    \"\"\"\n",
    "\n",
    "    # clean data: exclude reposts, remove hashtags and punctuation from text and do lemmatization\n",
    "    mystem = Mystem()\n",
    "    # owners = []\n",
    "    \n",
    "    data_outs = []\n",
    "    \n",
    "    post_texts = [post['text'] for post in data]    \n",
    "    \n",
    "    i = 0\n",
    "    \n",
    "    for post in data:\n",
    "        \n",
    "        i += 1\n",
    "        \n",
    "        if not post['text'] in post_texts[i:]:\n",
    "        \n",
    "    #         paragraphs = post1['text'].splitlines()\n",
    "\n",
    "    #         for post in paragraphs:\n",
    "\n",
    "                # if (post['owner_id'] not in owners) and\n",
    "\n",
    "    #         if not any(map(lambda c: c in ascii_letters, post['text'])):\n",
    "\n",
    "            if 'copy_history' not in post:\n",
    "                words_initial = post['text'].split()\n",
    "                if not ('#джекичан' in words_initial):\n",
    "                    words = []\n",
    "                    for item in words_initial:\n",
    "                        if not (item.startswith('#') or '@' in item or 'http' in item):\n",
    "\n",
    "                            extended_punctuation = string.punctuation + '„“«»—–”…‒'\n",
    "                            no_punctuation = item.translate(str.maketrans('', '', extended_punctuation))\n",
    "                            words.append(no_punctuation.lower())\n",
    "\n",
    "    #                     text = remove_pr(mystem, ' '.join(words))\n",
    "                    text = ' '.join(words)\n",
    "\n",
    "                    if len(words) > 5:   \n",
    "    #                     clean_data.append(text)\n",
    "\n",
    "                        lemmatized_words = mystem.lemmatize(text)\n",
    "                        \n",
    "                        data_out = {}\n",
    "                        data_out['text'] = ''.join(lemmatized_words[:-1])\n",
    "                        data_out['initial_text'] = post['text']\n",
    "                        data_out['date_label'] = post['date_label']\n",
    "                        data_out['owner_id'] = post['owner_id']\n",
    "                        \n",
    "                        data_outs.append(data_out)\n",
    "\n",
    "\n",
    "    return data_outs"
   ]
  },
  {
   "cell_type": "code",
   "execution_count": 171,
   "id": "42899c99",
   "metadata": {},
   "outputs": [],
   "source": [
    "with open(join('./clean posts/data/', 'posts_nowar_users_russia.pkl'), 'rb') as file:\n",
    "    data_nowar = pickle.load(file)"
   ]
  },
  {
   "cell_type": "code",
   "execution_count": 212,
   "id": "8c3936bd",
   "metadata": {},
   "outputs": [
    {
     "data": {
      "text/plain": [
       "32830"
      ]
     },
     "execution_count": 212,
     "metadata": {},
     "output_type": "execute_result"
    }
   ],
   "source": [
    "len(data_nowar)"
   ]
  },
  {
   "cell_type": "code",
   "execution_count": 213,
   "id": "89cb9705",
   "metadata": {},
   "outputs": [
    {
     "data": {
      "text/plain": [
       "489600"
      ]
     },
     "execution_count": 213,
     "metadata": {},
     "output_type": "execute_result"
    }
   ],
   "source": [
    "len(data_z)"
   ]
  },
  {
   "cell_type": "code",
   "execution_count": 172,
   "id": "cb8129ba",
   "metadata": {},
   "outputs": [],
   "source": [
    "list_dates = np.zeros([13,2])\n",
    "\n",
    "list_dates[:,0] = 2022\n",
    "list_dates[-2:,0] = 2023\n",
    "\n",
    "for i in range(2,13):\n",
    "    list_dates[i-2,1] = i\n",
    "    \n",
    "for i in range(1,3):\n",
    "    list_dates[i+10,1] = i"
   ]
  },
  {
   "cell_type": "code",
   "execution_count": 173,
   "id": "d188c1e9",
   "metadata": {},
   "outputs": [],
   "source": [
    "date_labels = ['Февраль 2022', 'Март 2022', 'Апрель 2022', 'Май 2022', 'Июнь 2022', 'Июль 2022', \n",
    "               'Август 2022', 'Сентябрь 2022', 'Октябрь 2022', 'Ноябрь 2022', 'Декабрь 2022', \n",
    "               'Январь 2023', 'Февраль 2023']"
   ]
  },
  {
   "cell_type": "code",
   "execution_count": 174,
   "id": "a4c2402e",
   "metadata": {},
   "outputs": [
    {
     "data": {
      "text/plain": [
       "array([[2.022e+03, 2.000e+00],\n",
       "       [2.022e+03, 3.000e+00],\n",
       "       [2.022e+03, 4.000e+00],\n",
       "       [2.022e+03, 5.000e+00],\n",
       "       [2.022e+03, 6.000e+00],\n",
       "       [2.022e+03, 7.000e+00],\n",
       "       [2.022e+03, 8.000e+00],\n",
       "       [2.022e+03, 9.000e+00],\n",
       "       [2.022e+03, 1.000e+01],\n",
       "       [2.022e+03, 1.100e+01],\n",
       "       [2.022e+03, 1.200e+01],\n",
       "       [2.023e+03, 1.000e+00],\n",
       "       [2.023e+03, 2.000e+00]])"
      ]
     },
     "execution_count": 174,
     "metadata": {},
     "output_type": "execute_result"
    }
   ],
   "source": [
    "list_dates"
   ]
  },
  {
   "cell_type": "code",
   "execution_count": 175,
   "id": "cb80dd65",
   "metadata": {},
   "outputs": [
    {
     "data": {
      "text/plain": [
       "array([2022.,   12.])"
      ]
     },
     "execution_count": 175,
     "metadata": {},
     "output_type": "execute_result"
    }
   ],
   "source": [
    "list_dates[10]"
   ]
  },
  {
   "cell_type": "code",
   "execution_count": 179,
   "id": "3c84f767",
   "metadata": {},
   "outputs": [],
   "source": [
    "def add_dates(data):\n",
    "    data_dated = []\n",
    "\n",
    "    for i in range(len(data)):\n",
    "\n",
    "        dt_object = datetime.fromtimestamp(data[i]['date'])\n",
    "        where_el = [int(a[0]) == dt_object.year and int(a[1]) == dt_object.month for a in list_dates]\n",
    "        if len(np.nonzero(where_el)[0])>0:\n",
    "            ind = np.where(where_el)[0][0]\n",
    "            date_label = date_labels[ind]\n",
    "            post_dated = data[i]\n",
    "            post_dated['date_label'] = date_label\n",
    "            data_dated.append(post_dated)\n",
    "            \n",
    "    return data_dated"
   ]
  },
  {
   "cell_type": "code",
   "execution_count": 180,
   "id": "eee35400",
   "metadata": {},
   "outputs": [],
   "source": [
    "data_nowar = add_dates(data_nowar)"
   ]
  },
  {
   "cell_type": "code",
   "execution_count": 181,
   "id": "19dec7c0",
   "metadata": {},
   "outputs": [],
   "source": [
    "data_nowar_clean = clean(data_nowar)"
   ]
  },
  {
   "cell_type": "code",
   "execution_count": 182,
   "id": "187de76f",
   "metadata": {},
   "outputs": [
    {
     "data": {
      "text/plain": [
       "20448"
      ]
     },
     "execution_count": 182,
     "metadata": {},
     "output_type": "execute_result"
    }
   ],
   "source": [
    "len(data_nowar_clean)"
   ]
  },
  {
   "cell_type": "code",
   "execution_count": 183,
   "id": "bd885568",
   "metadata": {},
   "outputs": [],
   "source": [
    "with open(join('./clean posts/data/', 'posts_nowar_users_russia_clean.pkl'), 'wb') as file:\n",
    "    pickle.dump(data_nowar_clean, file)"
   ]
  },
  {
   "cell_type": "code",
   "execution_count": 193,
   "id": "cab9d597",
   "metadata": {},
   "outputs": [],
   "source": [
    "with open(join('./clean posts/data/', 'posts_z_users_russia.pkl'), 'rb') as file:\n",
    "    data_z = pickle.load(file)"
   ]
  },
  {
   "cell_type": "code",
   "execution_count": 194,
   "id": "f8379093",
   "metadata": {},
   "outputs": [],
   "source": [
    "data_z = add_dates(data_z)"
   ]
  },
  {
   "cell_type": "code",
   "execution_count": 195,
   "id": "150d8c88",
   "metadata": {},
   "outputs": [],
   "source": [
    "# random.shuffle(data_z)"
   ]
  },
  {
   "cell_type": "code",
   "execution_count": 196,
   "id": "b1dc9da1",
   "metadata": {},
   "outputs": [],
   "source": [
    "# data_z_reduced = data_z[:30000]"
   ]
  },
  {
   "cell_type": "code",
   "execution_count": 197,
   "id": "0675a033",
   "metadata": {},
   "outputs": [],
   "source": [
    "data_z_clean = clean(data_z)"
   ]
  },
  {
   "cell_type": "code",
   "execution_count": 198,
   "id": "77252896",
   "metadata": {},
   "outputs": [
    {
     "data": {
      "text/plain": [
       "248313"
      ]
     },
     "execution_count": 198,
     "metadata": {},
     "output_type": "execute_result"
    }
   ],
   "source": [
    "len(data_z_clean)"
   ]
  },
  {
   "cell_type": "code",
   "execution_count": 199,
   "id": "2e533d42",
   "metadata": {},
   "outputs": [],
   "source": [
    "with open(join('./clean posts/data/', 'posts_z_users_russia_clean_full.pkl'), 'wb') as file:\n",
    "    pickle.dump(data_z_clean, file)"
   ]
  },
  {
   "cell_type": "code",
   "execution_count": 200,
   "id": "ccae6653",
   "metadata": {},
   "outputs": [],
   "source": [
    "results_z = []\n",
    "for label in date_labels:\n",
    "    res = np.sum([(data_z_clean[i]['date_label'] == label) for i in range(len(data_z_clean))])\n",
    "    results_z.append(res)"
   ]
  },
  {
   "cell_type": "code",
   "execution_count": 204,
   "id": "7eeb85de",
   "metadata": {},
   "outputs": [],
   "source": [
    "results_nowar = []\n",
    "for label in date_labels:\n",
    "    res = np.sum([(data_nowar_clean[i]['date_label'] == label) for i in range(len(data_nowar_clean))])\n",
    "    results_nowar.append(res)"
   ]
  },
  {
   "cell_type": "code",
   "execution_count": 210,
   "id": "dbcf3aa5",
   "metadata": {},
   "outputs": [
    {
     "name": "stdout",
     "output_type": "stream",
     "text": [
      "[0, 1, 2, 3, 4, 5, 6, 7, 8, 9, 10, 11, 12]\n",
      "[0.02403418 0.21685937 0.13418548 0.07500211 0.06406028 0.06841768\n",
      " 0.06752768 0.08322963 0.06726188 0.05551864 0.04851135 0.04086778\n",
      " 0.05452393]\n",
      "[0.25088028 0.28076095 0.09062011 0.07384585 0.04499218 0.0366295\n",
      " 0.03506455 0.06215767 0.04352504 0.02846244 0.01965962 0.01608959\n",
      " 0.01731221]\n"
     ]
    }
   ],
   "source": [
    "print([i for i in range(13)])\n",
    "print(np.array(results_z)/sum(results_z))\n",
    "print(np.array(results_nowar)/sum(results_nowar))"
   ]
  },
  {
   "cell_type": "code",
   "execution_count": 209,
   "id": "eb470d70",
   "metadata": {},
   "outputs": [
    {
     "data": {
      "text/plain": [
       "<matplotlib.legend.Legend at 0x7f215f2ff490>"
      ]
     },
     "execution_count": 209,
     "metadata": {},
     "output_type": "execute_result"
    },
    {
     "data": {
      "image/png": "[encoded data removed]",
      "text/plain": [
       "<Figure size 640x480 with 1 Axes>"
      ]
     },
     "metadata": {},
     "output_type": "display_data"
    }
   ],
   "source": [
    "plt.figure()\n",
    "plt.plot(np.array(results_z)/sum(results_z))\n",
    "plt.plot(np.array(results_nowar)/sum(results_nowar))\n",
    "plt.xlabel('Месяца с февраля 2022 по февраль 2023')\n",
    "plt.ylabel('Количество постов')\n",
    "plt.legend(['Провоенные','Антивоенные'])"
   ]
  },
  {
   "cell_type": "code",
   "execution_count": 191,
   "id": "cce59f7c",
   "metadata": {},
   "outputs": [
    {
     "data": {
      "text/plain": [
       "20448"
      ]
     },
     "execution_count": 191,
     "metadata": {},
     "output_type": "execute_result"
    }
   ],
   "source": [
    "len(data_nowar_clean)"
   ]
  },
  {
   "cell_type": "code",
   "execution_count": 192,
   "id": "a647af65",
   "metadata": {},
   "outputs": [
    {
     "data": {
      "text/plain": [
       "21026"
      ]
     },
     "execution_count": 192,
     "metadata": {},
     "output_type": "execute_result"
    }
   ],
   "source": [
    "len(data_z_clean)"
   ]
  },
  {
   "cell_type": "code",
   "execution_count": null,
   "id": "a4f94f5d",
   "metadata": {},
   "outputs": [],
   "source": []
  }
 ],
 "metadata": {
  "kernelspec": {
   "display_name": "Python 3 (ipykernel)",
   "language": "python",
   "name": "python3"
  },
  "language_info": {
   "codemirror_mode": {
    "name": "ipython",
    "version": 3
   },
   "file_extension": ".py",
   "mimetype": "text/x-python",
   "name": "python",
   "nbconvert_exporter": "python",
   "pygments_lexer": "ipython3",
   "version": "3.10.8"
  }
 },
 "nbformat": 4,
 "nbformat_minor": 5
}
